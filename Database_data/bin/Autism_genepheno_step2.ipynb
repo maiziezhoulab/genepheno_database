{
 "cells": [
  {
   "cell_type": "markdown",
   "metadata": {},
   "source": [
    "# This script is used to calculate NPMI and get gene-phenotype matrix"
   ]
  },
  {
   "cell_type": "code",
   "execution_count": 1,
   "metadata": {},
   "outputs": [],
   "source": [
    "import glob\n",
    "import json\n",
    "import numpy as np\n",
    "import math\n",
    "import os\n",
    "import ast\n",
    "import pandas as pd\n",
    "import csv\n",
    "import xlrd"
   ]
  },
  {
   "cell_type": "code",
   "execution_count": 25,
   "metadata": {},
   "outputs": [],
   "source": [
    "#define dir\n",
    "\n",
    "# input file dir\n",
    "json_path = '../Autism_genepheno_results/Extraced_results'              # the output file of step1\n",
    "np_dir = '../Autism_genepheno_results/Sum_all/n_p.txt'                 # the output file of step1\n",
    "ng_dir = '../Autism_genepheno_results/Sum_all/n_g.txt'                 # the output file of step1\n",
    "In_Summary_dir='../Autism_genepheno_results/Sum_all/In_Summary.txt'    # the output file of step1\n",
    "sfari_gene_dir='../source/SFARI-Gene_genes_12-11-2020release_12-19-2020export.xlsx'# the SFARI genes file dir\n",
    "\n",
    "# output file dir\n",
    "NPMI_result_dir='../Autism_genepheno_results/NPMI_file/'               # folder of NPMI file "
   ]
  },
  {
   "cell_type": "code",
   "execution_count": 26,
   "metadata": {},
   "outputs": [
    {
     "name": "stdout",
     "output_type": "stream",
     "text": [
      "using existing output folder: ../Autism_genepheno_results/NPMI_file/\n"
     ]
    }
   ],
   "source": [
    "if os.path.exists(NPMI_result_dir):\n",
    "    print(\"using existing output folder: \" + NPMI_result_dir)\n",
    "else:\n",
    "    os.makedirs(NPMI_result_dir)"
   ]
  },
  {
   "cell_type": "code",
   "execution_count": 27,
   "metadata": {},
   "outputs": [],
   "source": [
    "# other definations\n",
    "genes_outlier = ['BDNF']# define gene outlier\n",
    "jsons = glob.glob(\"{}/*.json\".format(json_path)) # get the dir of every file in .\\\\Extraced_results\n",
    "NPMI_dir=NPMI_result_dir+'NPMI.json' # raw NPMI json file\n",
    "NPMI_csv_dir=NPMI_result_dir+'NPMI.csv'# raw NPMI csv file\n",
    "NPMI_above_zero_csv_dir=NPMI_result_dir+'NPMI_above_zero.csv'# pairs with NPMI above 0, csv file\n",
    "graph_matrix_dir = NPMI_result_dir+'graph_matrix_01_NPMIabove0.csv'# matrix, NPMI>0 -> 1,NPMI<=0 -> 0"
   ]
  },
  {
   "cell_type": "code",
   "execution_count": 28,
   "metadata": {},
   "outputs": [],
   "source": [
    "# delete old output file\n",
    "def delete_old_file():\n",
    "    if os.path.exists(NPMI_dir):\n",
    "        os.remove(NPMI_dir)\n",
    "    if os.path.exists(NPMI_csv_dir):\n",
    "        os.remove(NPMI_csv_dir)\n",
    "    if os.path.exists(graph_matrix_dir):\n",
    "        os.remove(graph_matrix_dir)\n",
    "    if os.path.exists(NPMI_above_zero_csv_dir):\n",
    "        os.remove(NPMI_above_zero_csv_dir)  "
   ]
  },
  {
   "cell_type": "code",
   "execution_count": 29,
   "metadata": {},
   "outputs": [],
   "source": [
    "# this cell is used to define functions that can read files\n",
    "\n",
    "# read file in .\\\\Sum_all\n",
    "def read_file():\n",
    "    #read n_p\n",
    "    with open(np_dir, 'r', encoding='utf-8-sig') as o:  \n",
    "        phenotype_dict =  ast.literal_eval(o.read())\n",
    "    \n",
    "            \n",
    "    #read n_g\n",
    "    with open(ng_dir, 'r', encoding='utf-8-sig') as o:  \n",
    "        gene_dict =  ast.literal_eval(o.read())\n",
    "            \n",
    "    #read n_tot\n",
    "    with open(In_Summary_dir, 'r', encoding='utf-8-sig') as o:  \n",
    "        f=o.read()\n",
    "        h = f.find('N_tot = ')\n",
    "        e = f.find('Unique gene list from all papers:')\n",
    "        n_tot = int(f[h+8:e-2])\n",
    "    return phenotype_dict, gene_dict, n_tot\n",
    "\n",
    "# read sfari file in .\\\\Genotype_list\n",
    "def read_sfari(sfari_gene_dir):\n",
    "    wb = xlrd.open_workbook(sfari_gene_dir)\n",
    "    sh = wb.sheet_by_name('Sheet2')\n",
    "    sfari_gene_name = sh.col_values(1)[1:]\n",
    "    sfari_gene_class = sh.col_values(2)[1:]\n",
    "    sfari_gene_dict = dict(zip(sfari_gene_name,sfari_gene_class))  \n",
    "    return sfari_gene_dict"
   ]
  },
  {
   "cell_type": "code",
   "execution_count": 30,
   "metadata": {},
   "outputs": [],
   "source": [
    "# this cell is used to define functions that modify the gene_dict\n",
    "\n",
    "# delete one gene from gene_dict\n",
    "def delete_gene_from_dict(gene_delete_list,gene_dict):\n",
    "    for gene in gene_delete_list:\n",
    "        if gene in gene_dict.keys():\n",
    "            del gene_dict[gene]\n",
    "    return gene_dict\n",
    "\n",
    "# delete 2 words genes in gene_dict \n",
    "def delete_2word_gene_from_dict(gene_dict):\n",
    "    for gene in list(gene_dict.keys()):\n",
    "        if len(gene)<=2:\n",
    "            del gene_dict[gene]\n",
    "    return gene_dict"
   ]
  },
  {
   "cell_type": "code",
   "execution_count": 31,
   "metadata": {},
   "outputs": [],
   "source": [
    "# get gene_list and phenotype list from gene_dict and phenotype_dict\n",
    "def get_list(gene_dict,phenotype_dict):\n",
    "    gene_list=[]\n",
    "    for key in gene_dict.keys():\n",
    "        gene_list.append(key)\n",
    "    phenotype_list=[]\n",
    "    for key in phenotype_dict.keys():\n",
    "        phenotype_list.append(key)\n",
    "    return gene_list,phenotype_list"
   ]
  },
  {
   "cell_type": "code",
   "execution_count": 32,
   "metadata": {},
   "outputs": [],
   "source": [
    "# generate matrix that shows the relationship of gene and phenotype. \n",
    "# row is gene and column is phenotype, the crosspoints are the co-occurance time of gene and phenotype\n",
    "\n",
    "def generate_matrix (gene_list,phenotype_list,gene_dict,phenotype_dict):\n",
    "    graph_matrix = np.zeros((len(gene_list),len(phenotype_list)))\n",
    "    for index,item in enumerate(jsons) :\n",
    "        if index%1000 ==0:\n",
    "            print(index)# show the process of calculating NPMI\n",
    "        with open(item, 'r', encoding='utf-8-sig') as f:\n",
    "            json_data = json.load(f)\n",
    "            for key in json_data['Sentences']:\n",
    "                json_phenotype = json_data['Sentences'][key]['Normolized phenotype']\n",
    "                json_gene = json_data['Sentences'][key]['Gene']\n",
    "                for phenotype in json_phenotype:\n",
    "                    phenotype_in_dict = [x for i,x in enumerate(phenotype_list) if x.find(str(phenotype))!=-1][0]\n",
    "\n",
    "                    for gene in json_gene:\n",
    "                        if gene in gene_list:\n",
    "                            graph_matrix[gene_list.index(gene)][phenotype_list.index(phenotype_in_dict)] += 1\n",
    "    return graph_matrix"
   ]
  },
  {
   "cell_type": "code",
   "execution_count": 33,
   "metadata": {},
   "outputs": [],
   "source": [
    "# calculate NPMI and output NPMI raw data file (json file and csv file)\n",
    "def NPMI_calculate_and_output_NPMI_file(gene_list,phenotype_list,gene_dict,phenotype_dict,graph_matrix,n_tot,sfari_gene_dict):\n",
    "# calculate NPMI and output NPMI raw data json file\n",
    "    data_of_all_pairs=[]                \n",
    "    with open(NPMI_dir, 'w', encoding='utf-8-sig') as f:    \n",
    "        count_pair = 0           \n",
    "        for phenotype_index, phenotype in enumerate(phenotype_list):\n",
    "            for gene_index,gene in enumerate(gene_list):\n",
    "                n_g = gene_dict[gene]\n",
    "                n_p = phenotype_dict[phenotype]\n",
    "                n_gp = graph_matrix[gene_index][phenotype_index]\n",
    "                if n_gp!= 0:\n",
    "                    NPMI = math.log((n_gp*n_tot)/(n_g*n_p))/(-math.log(n_gp/n_tot))# calculate NPMI\n",
    "                    \n",
    "                    if gene in sfari_gene_dict.keys():\n",
    "                        gene_class = sfari_gene_dict[gene]\n",
    "                    else:\n",
    "                        gene_class = 'NA'\n",
    "                    data_of_one_pair = {'gene':gene, 'phenotype':phenotype,'NPMI': NPMI,'gene_sfari_class':gene_class, 'n_g':n_g, 'n_p':n_p, 'n_gp':n_gp}\n",
    "                    data_of_all_pairs.append(data_of_one_pair)\n",
    "                    count_pair += 1\n",
    "                    #f.write(tplt.format(gene, phenotype, NPMI,n_g,n_p,n_gp))\n",
    "        data_of_all_pairs.sort(key=lambda x: x[\"NPMI\"])\n",
    "        json.dump(data_of_all_pairs , f , sort_keys=False, indent=4, separators=(',', ': '))\n",
    "    all_pair_NPMI_result = data_of_all_pairs\n",
    "    \n",
    "\n",
    "# use a dict to store NPMI data sorted by gene\n",
    "    pairs_sort_by_gene_dict = {}\n",
    "    for gene in gene_list:\n",
    "        same_gene_pair_data=[]\n",
    "        for item in data_of_all_pairs:\n",
    "            if item['gene']==gene:\n",
    "                same_gene_pair_data.append(item)\n",
    "        same_gene_pair_data.sort(key=lambda x: -x[\"NPMI\"])\n",
    "        pairs_sort_by_gene_dict[gene] = same_gene_pair_data\n",
    "\n",
    "\n",
    "# output NPMI raw data csv file\n",
    "    with open(NPMI_csv_dir, 'w', encoding='utf-8-sig',newline='') as f:\n",
    "        writer = csv.writer(f)\n",
    "        writer.writerow([\"gene\", \"phenotype\",\"gene_sfari_class\", \"NPMI\",\"n_g\",\"n_p\",\"n_gp\"])\n",
    "        for gene in gene_list:\n",
    "            one_gene_json_list = pairs_sort_by_gene_dict[gene] \n",
    "            for item in one_gene_json_list:\n",
    "                writer.writerows([(item['gene'], item['phenotype'],item['gene_sfari_class'], item['NPMI'],item['n_g'],item['n_p'],item['n_gp'])])\n",
    "    return all_pair_NPMI_result\n",
    "                    "
   ]
  },
  {
   "cell_type": "code",
   "execution_count": 34,
   "metadata": {},
   "outputs": [],
   "source": [
    "# output pairs that NPMI>0, csv file\n",
    "def output_NPMI_above_zero_csv(NPMI_above_zero_csv_dir,all_pair_NPMI_result):\n",
    "    all_pair_NPMI_result.sort(key=lambda x: x[\"NPMI\"])\n",
    "    with open(NPMI_above_zero_csv_dir, 'w', encoding='utf-8-sig',newline='') as f:\n",
    "        writer = csv.writer(f)\n",
    "        writer.writerow([\"gene\", \"phenotype\",\"gene_sfari_class\", \"NPMI\",\"n_g\",\"n_p\",\"n_gp\"])\n",
    "        for item in all_pair_NPMI_result:\n",
    "            if item['NPMI']>0:\n",
    "                writer.writerows([(item['gene'], item['phenotype'],item['gene_sfari_class'], item['NPMI'],item['n_g'],item['n_p'],item['n_gp'])])\n"
   ]
  },
  {
   "cell_type": "code",
   "execution_count": 35,
   "metadata": {},
   "outputs": [],
   "source": [
    "# modify the graph_matrix\n",
    "# row is gene and column is phenotype, \n",
    "# crosspoints: if NPMI of this pair is above 0, then the crosspoint would be 1. else, the crosspoint would be 0\n",
    "# Also, delete the row and column that only have 0. Also delete gene and phenotype in gene_list and phenotype_list\n",
    "\n",
    "def modify_to_01_NPMIabove0(graph_matrix,NPMI_result,gene_list,phenotype_list):\n",
    "    graph_matrix = np.ones((len(gene_list),len(phenotype_list)))*-1#row, column\n",
    "    for item in NPMI_result:\n",
    "        gene = item['gene']\n",
    "        phenotype = item['phenotype']\n",
    "        NPMI = item['NPMI']\n",
    "        graph_matrix[gene_list.index(gene)][phenotype_list.index(phenotype)] =NPMI\n",
    "        \n",
    "    graph_matrix[graph_matrix>0]=1# NPMI>0 -> 1\n",
    "    graph_matrix[graph_matrix<=0]=0#,NPMI<=0 -> 0\n",
    "\n",
    "    all_zero_row = list(np.where(~graph_matrix.any(axis=1))[0]) #find the all 0 row\n",
    "    graph_matrix = np.delete(graph_matrix,all_zero_row,axis=0)\n",
    "    for i in reversed(all_zero_row):\n",
    "        del gene_list[i]\n",
    "    \n",
    "    all_zero_col = list(np.where(~graph_matrix.any(axis=0))[0]) #find the all 0 col\n",
    "    graph_matrix = np.delete(graph_matrix,all_zero_col,axis=1)\n",
    "    for i in reversed(all_zero_col):\n",
    "        del phenotype_list[i]\n",
    "    \n",
    "    return graph_matrix, gene_list, phenotype_list"
   ]
  },
  {
   "cell_type": "code",
   "execution_count": 36,
   "metadata": {},
   "outputs": [],
   "source": [
    "# output the modified matrix\n",
    "def out_put_graph(graph_matrix_dic,graph_matrix,gene_list,phenotype_list):\n",
    "    graph_matrix = pd.DataFrame(graph_matrix, index=gene_list, columns=phenotype_list)\n",
    "    graph_matrix.to_csv(graph_matrix_dic,sep=',',index=True,header=True)\n",
    "        "
   ]
  },
  {
   "cell_type": "code",
   "execution_count": 37,
   "metadata": {},
   "outputs": [
    {
     "name": "stdout",
     "output_type": "stream",
     "text": [
      "0\n",
      "1000\n",
      "2000\n",
      "3000\n",
      "4000\n",
      "5000\n",
      "6000\n",
      "7000\n",
      "8000\n"
     ]
    }
   ],
   "source": [
    "# main function\n",
    "\n",
    "if __name__ == '__main__':\n",
    "    # read file\n",
    "    delete_old_file()\n",
    "    phenotype_dict, gene_dict, n_tot = read_file()\n",
    "    sfari_gene_dict = read_sfari(sfari_gene_dir)\n",
    "        \n",
    "    # delete outlier\n",
    "    gene_dict = delete_gene_from_dict(genes_outlier,gene_dict)\n",
    "\n",
    "    # delete 2 words genes\n",
    "    gene_dict = delete_2word_gene_from_dict(gene_dict)\n",
    "    \n",
    "    # get list\n",
    "    gene_list,phenotype_list = get_list(gene_dict,phenotype_dict)\n",
    "    \n",
    "    graph_matrix= generate_matrix(gene_list,phenotype_list,gene_dict,phenotype_dict)\n",
    "\n",
    "    all_pair_NPMI_result = NPMI_calculate_and_output_NPMI_file(gene_list,phenotype_list,gene_dict,phenotype_dict,graph_matrix,n_tot,sfari_gene_dict) \n",
    "    \n",
    "    output_NPMI_above_zero_csv(NPMI_above_zero_csv_dir,all_pair_NPMI_result)\n",
    "\n",
    "    graph_matrix, gene_list, phenotype_list = modify_to_01_NPMIabove0(graph_matrix,all_pair_NPMI_result,gene_list,phenotype_list)\n",
    "    out_put_graph(graph_matrix_dir,graph_matrix,gene_list,phenotype_list)\n",
    "    \n"
   ]
  },
  {
   "cell_type": "code",
   "execution_count": 29,
   "metadata": {},
   "outputs": [
    {
     "data": {
      "text/plain": [
       "'__main__'"
      ]
     },
     "execution_count": 29,
     "metadata": {},
     "output_type": "execute_result"
    }
   ],
   "source": []
  },
  {
   "cell_type": "code",
   "execution_count": null,
   "metadata": {},
   "outputs": [],
   "source": []
  }
 ],
 "metadata": {
  "kernelspec": {
   "display_name": "Python 3",
   "language": "python",
   "name": "python3"
  },
  "language_info": {
   "codemirror_mode": {
    "name": "ipython",
    "version": 3
   },
   "file_extension": ".py",
   "mimetype": "text/x-python",
   "name": "python",
   "nbconvert_exporter": "python",
   "pygments_lexer": "ipython3",
   "version": "3.8.3"
  }
 },
 "nbformat": 4,
 "nbformat_minor": 4
}
