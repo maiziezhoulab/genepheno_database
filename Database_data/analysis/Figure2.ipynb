{
 "cells": [
  {
   "cell_type": "markdown",
   "metadata": {},
   "source": [
    "# this script is used to evaluate NPMI>0 result"
   ]
  },
  {
   "cell_type": "code",
   "execution_count": 1,
   "metadata": {},
   "outputs": [],
   "source": [
    "import ast\n",
    "import matplotlib.pyplot as plt\n",
    "import csv\n",
    "import xlrd\n",
    "import matplotlib"
   ]
  },
  {
   "cell_type": "code",
   "execution_count": 2,
   "metadata": {},
   "outputs": [],
   "source": [
    "#define dic\n",
    "# input file dir\n",
    "NPMI_sort_ngp_and_NPMI_xlsx_dic = './inputfile_for_analysis/NPMI_by_threshold.xlsx'\n",
    "genes_to_phenotype_dic='./inputfile_for_analysis/genes_to_phenotype.txt'\n",
    "# output file dir\n",
    "statistic_dic='./statistic_result/'\n",
    "evaluation_pair_csv_dic = './evaluation_result/evaluation_result.csv'"
   ]
  },
  {
   "cell_type": "code",
   "execution_count": 3,
   "metadata": {},
   "outputs": [],
   "source": [
    "# figure setting\n",
    "matplotlib.rcParams['pdf.fonttype'] = 42\n",
    "matplotlib.rcParams['ps.fonttype'] = 42\n",
    "plt.rcParams['svg.fonttype'] = 'none'"
   ]
  },
  {
   "cell_type": "code",
   "execution_count": 4,
   "metadata": {},
   "outputs": [],
   "source": [
    "# read HPO file\n",
    "genes_to_phenotype_list=[]\n",
    "with open(genes_to_phenotype_dic,\"r\",encoding=\"utf-8\") as f: \n",
    "    for line in f.readlines():#readlines以列表输出文件内容\n",
    "        genes_to_phenotype_list.append(line.strip('\\n').split('\\t'))\n",
    "        \n",
    "del genes_to_phenotype_list[0]\n",
    "\n",
    "genes_to_phenotype_dict={}\n",
    "for line in genes_to_phenotype_list:\n",
    "    gene = line[1]\n",
    "    phenotype_HP=line[2]\n",
    "    if gene not in genes_to_phenotype_dict.keys():\n",
    "        genes_to_phenotype_dict[gene] = []\n",
    "    if phenotype_HP not in genes_to_phenotype_dict[gene]:\n",
    "        genes_to_phenotype_dict[gene].append(phenotype_HP)\n",
    "\n"
   ]
  },
  {
   "cell_type": "code",
   "execution_count": 5,
   "metadata": {},
   "outputs": [],
   "source": [
    "# get all HPO number\n",
    "HPnum_list = []\n",
    "for gene in genes_to_phenotype_dict:\n",
    "    HPnum_list = HPnum_list+genes_to_phenotype_dict[gene]\n",
    "    \n",
    "HPnum_list =  list(set(HPnum_list))"
   ]
  },
  {
   "cell_type": "code",
   "execution_count": 6,
   "metadata": {},
   "outputs": [],
   "source": [
    "\n",
    "\n",
    "# read NPMI file and do evaluation\n",
    "data = xlrd.open_workbook(NPMI_sort_ngp_and_NPMI_xlsx_dic) \n",
    "# table = data.sheet_by_name('all pairs NPMI>0 ngp > 5')\n",
    "table = data.sheet_by_name('all pairs NPMI >0')\n",
    "data_dict = {}\n",
    "for rowNum in range(table.nrows):\n",
    "# if 去掉表头\n",
    "    if rowNum > 0:\n",
    "        if table.row_values(rowNum)[0] != '':\n",
    "            if table.row_values(rowNum)[0] not in data_dict.keys():\n",
    "                data_dict[table.row_values(rowNum)[0]] = []\n",
    "            data_dict[table.row_values(rowNum)[0]].append( [table.row_values(rowNum)[1],#phenotype\n",
    "                                                            table.row_values(rowNum)[2],#gene_sfari_class\n",
    "                                                            table.row_values(rowNum)[3],#NPMI\n",
    "                                                            table.row_values(rowNum)[4],#n_g\n",
    "                                                            table.row_values(rowNum)[5],#n_p\n",
    "                                                            table.row_values(rowNum)[6]]#n_gp\n",
    "                                                          )\n",
    "\n",
    "gene_number_dict = {'1':[[],[],[]],'2':[[],[],[]],'3':[[],[],[]],'S':[[],[],[]],'NA':[[],[],[]]}\n",
    "\n",
    "\n",
    "# evaluation and write file\n",
    "with open(evaluation_pair_csv_dic, 'w', encoding='utf-8-sig',newline='') as f:\n",
    "    writer = csv.writer(f)\n",
    "    # writer.writerow([\"Gene is not in HPO = 2\", \"No HP number of phenotype = 3\",\"Pair found in HPO = 0\", \"Pair not found in HPO = 1\"])\n",
    "    writer.writerow([\"gene\", \"phenotype\",\"gene_sfari_class\", \"NPMI\",\"n_g\",\"n_p\",\"n_gp\",\"if_found_in_HPO\",\"if_gene_found_in_HPO\"])\n",
    "    for gene in data_dict:\n",
    "\n",
    "        if_gene_found = 'False'\n",
    "        gene_data = []\n",
    "        for pair in data_dict[gene]:\n",
    "            phenotype = pair[0]\n",
    "            phenotype_HP = ast.literal_eval(phenotype)[3]\n",
    "            if type(pair[1]) == float:\n",
    "                pair[1] = int(pair[1])\n",
    "            gene_sfari_class = pair[1]\n",
    "            NPMI = pair[2]\n",
    "            n_g = pair[3]\n",
    "            n_p = pair[4]\n",
    "            n_gp =pair[5]\n",
    "            \n",
    "            gene_number_dict[str(pair[1])][2].append(gene)\n",
    "\n",
    "            if gene not in genes_to_phenotype_dict.keys():\n",
    "                if_found_in_HPO = \"Gene is not in HPO\"\n",
    "            elif phenotype_HP == \"NULL\":\n",
    "                if_found_in_HPO = \"No HP number of phenotype\"   \n",
    "            elif phenotype_HP not in HPnum_list:\n",
    "                if_found_in_HPO = \"Phenotype not in c2upper\"  \n",
    "            else:\n",
    "                gene_number_dict[str(pair[1])][1].append(gene)\n",
    "                \n",
    "                if phenotype_HP in genes_to_phenotype_dict[gene]:\n",
    "                    if_found_in_HPO = \"Pair found in HPO\"\n",
    "                    if_gene_found = 'True'\n",
    "                else:\n",
    "                    if_found_in_HPO = \"Pair not found in HPO\"\n",
    "                        \n",
    "\n",
    "            gene_data.append([gene, phenotype,gene_sfari_class,NPMI,n_g,n_p,n_gp,if_found_in_HPO])\n",
    "        \n",
    "        # write if found in HPO\n",
    "        for pair_data in gene_data:\n",
    "            pair_data.append(if_gene_found)\n",
    "            writer.writerows([tuple(pair_data)])\n",
    "        if if_gene_found == 'True' :\n",
    "            if gene in gene_number_dict[str(pair[1])][1]:\n",
    "                gene_number_dict[str(pair[1])][0].append(gene)"
   ]
  },
  {
   "cell_type": "code",
   "execution_count": 7,
   "metadata": {},
   "outputs": [],
   "source": [
    "# statistic of evaluated result\n",
    "\n",
    "for label in gene_number_dict:\n",
    "    for index,item in enumerate(gene_number_dict[label]):\n",
    "        gene_number_dict[label][index] = list(set(item))\n",
    "        \n",
    "        \n",
    "        \n",
    "sum_num1 = 0\n",
    "sum_num2 = 0\n",
    "sum_num3 = 0\n",
    "for label in gene_number_dict:\n",
    "      sum_num1  += len(gene_number_dict[label][0])\n",
    "      sum_num2  += len(gene_number_dict[label][1])   \n",
    "      sum_num3  += len(gene_number_dict[label][2])  "
   ]
  }
 ],
 "metadata": {
  "kernelspec": {
   "display_name": "Python 3",
   "language": "python",
   "name": "python3"
  },
  "language_info": {
   "codemirror_mode": {
    "name": "ipython",
    "version": 3
   },
   "file_extension": ".py",
   "mimetype": "text/x-python",
   "name": "python",
   "nbconvert_exporter": "python",
   "pygments_lexer": "ipython3",
   "version": "3.8.3"
  }
 },
 "nbformat": 4,
 "nbformat_minor": 4
}
