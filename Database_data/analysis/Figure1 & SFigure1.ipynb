{
 "cells": [
  {
   "cell_type": "markdown",
   "metadata": {},
   "source": [
    "# this script is used to get statistic result of paper in 5 years"
   ]
  },
  {
   "cell_type": "code",
   "execution_count": 25,
   "metadata": {},
   "outputs": [],
   "source": [
    "import glob\n",
    "import json\n",
    "import ast\n",
    "import matplotlib.pyplot as plt\n",
    "import matplotlib \n",
    "import xlrd\n",
    "from matplotlib.ticker import PercentFormatter"
   ]
  },
  {
   "cell_type": "code",
   "execution_count": 26,
   "metadata": {},
   "outputs": [],
   "source": [
    "#define dic\n",
    "json_path = '../bin/Extraced_results/'\n",
    "# input file dir\n",
    "sfari_gene_dic='../bin/Genotype_list/SFARI-Gene_genes_12-11-2020release_12-19-2020export.xlsx'\n",
    "phenotype_upperclass_file = '../bin/Phenotype_list/c2upper.txt'\n",
    "NPMI_sort_ngp_and_NPMI_xlsx_dic = './inputfile_for_analysis/NPMI_by_threshold.xlsx'\n",
    "# output file dir\n",
    "statistic_dic='./statistic_result/'"
   ]
  },
  {
   "cell_type": "code",
   "execution_count": 3,
   "metadata": {},
   "outputs": [],
   "source": [
    "jsons = glob.glob(\"{}\\\\*.json\".format(json_path)) "
   ]
  },
  {
   "cell_type": "code",
   "execution_count": 4,
   "metadata": {},
   "outputs": [],
   "source": [
    "# figure setting\n",
    "matplotlib.rcParams['pdf.fonttype'] = 42\n",
    "matplotlib.rcParams['ps.fonttype'] = 42\n",
    "plt.rcParams['svg.fonttype'] = 'none'\n",
    "n_print = 30"
   ]
  },
  {
   "cell_type": "code",
   "execution_count": 5,
   "metadata": {},
   "outputs": [],
   "source": [
    "# outlier list\n",
    "genes_outlier = ['T','CS','BDNF','CP','APP','CAD','CA1','CA3','CD4','CRP','GFAP',\n",
    "                 'MAF','NHS','OXT','PGC','PSD','SCD','SDC','SMS','EGFR','TLR4','APC','SDS',\n",
    "                 'FST','ATM','MYC','NLRP3','FUS', 'CFTR']\n"
   ]
  },
  {
   "cell_type": "code",
   "execution_count": 6,
   "metadata": {},
   "outputs": [],
   "source": [
    "# years we want to analysis\n",
    "year_list = ['2016','2017','2018','2019','NULL']"
   ]
  },
  {
   "cell_type": "code",
   "execution_count": 38,
   "metadata": {},
   "outputs": [],
   "source": [
    "\n",
    "\n",
    "# collect information of every year, abstract and full_article separate\n",
    "every_year_paper_num = {'2015':{'abstract':0,'full_article':0},\n",
    "                      '2016':{'abstract':0,'full_article':0},\n",
    "                      '2017':{'abstract':0,'full_article':0},\n",
    "                      '2018':{'abstract':0,'full_article':0},\n",
    "                      '2019':{'abstract':0,'full_article':0},\n",
    "                      '2020':{'abstract':0,'full_article':0},\n",
    "                      \"NULL\":{'abstract':0,'full_article':0}}\n",
    "\n",
    "every_year_gene = {'2015':{'abstract':[],'full_article':[]},\n",
    "                      '2016':{'abstract':[],'full_article':[]},\n",
    "                      '2017':{'abstract':[],'full_article':[]},\n",
    "                      '2018':{'abstract':[],'full_article':[]},\n",
    "                      '2019':{'abstract':[],'full_article':[]},\n",
    "                      '2020':{'abstract':[],'full_article':[]},\n",
    "                      \"NULL\":{'abstract':[],'full_article':[]}}\n",
    "\n",
    "every_year_phenotype = {'2015':{'abstract':[],'full_article':[]},\n",
    "                      '2016':{'abstract':[],'full_article':[]},\n",
    "                      '2017':{'abstract':[],'full_article':[]},\n",
    "                      '2018':{'abstract':[],'full_article':[]},\n",
    "                      '2019':{'abstract':[],'full_article':[]},\n",
    "                      '2020':{'abstract':[],'full_article':[]},\n",
    "                      \"NULL\":{'abstract':[],'full_article':[]}}\n",
    "\n",
    "for index,item in enumerate(jsons) :\n",
    "    with open(item, 'r', encoding='utf-8-sig') as f:\n",
    "        json_data = json.load(f)\n",
    "        \n",
    "        # get the genes of this paper \n",
    "        all_gene = []\n",
    "        for sentence in json_data['Sentences']:\n",
    "            all_gene[0:0] = json_data['Sentences'][sentence]['Gene']\n",
    "        all_gene_temp = list(set(all_gene))# delete duplication\n",
    "        \n",
    "        # delete gene outlier \n",
    "        all_gene_temp2 = [x for x in all_gene_temp if x not in genes_outlier]\n",
    "        # delete 2 words gene\n",
    "        all_gene = [x for x in all_gene_temp2 if len(x)>2]\n",
    "        \n",
    "        # get the phenotype of this paper \n",
    "        all_phenotype = []\n",
    "        for sentence in json_data['Sentences']:\n",
    "            for phenotype in  json_data['Sentences'][sentence]['Normolized phenotype']:\n",
    "                all_phenotype.append(phenotype[1])\n",
    "        all_phenotype = list(set(all_phenotype))# delete duplication\n",
    "        \n",
    "        # get the publish year of paper\n",
    "        title = json_data['Title']\n",
    "        start = title.find('(Published on ')\n",
    "        end = len(title)\n",
    "        time = title[start+14:end-1]\n",
    "        \n",
    "        # get the number and gene and phenotype of paper in different years\n",
    "        if \"NULL\" not in time :\n",
    "            year_start = time.find('201')\n",
    "            year = time[year_start:year_start+4]\n",
    "            if year == '':\n",
    "                year_start = time.find('202')\n",
    "                year = time[year_start:year_start+4]\n",
    "                \n",
    "            if 'abstract' in time:\n",
    "                every_year_paper_num[year]['abstract'] +=1\n",
    "                every_year_gene[year]['abstract'][0:0] = all_gene\n",
    "                every_year_phenotype[year]['abstract'][0:0] = all_phenotype\n",
    "                \n",
    "            else:\n",
    "                every_year_paper_num[year]['full_article'] +=1\n",
    "                every_year_gene[year]['full_article'][0:0] = all_gene\n",
    "                every_year_phenotype[year]['full_article'][0:0] = all_phenotype\n",
    "        else:\n",
    "            if 'abstract' in time:\n",
    "                every_year_paper_num[\"NULL\"]['abstract'] +=1\n",
    "                every_year_gene[\"NULL\"]['abstract'][0:0] = all_gene\n",
    "                every_year_phenotype[\"NULL\"]['abstract'][0:0] = all_phenotype\n",
    "            else:\n",
    "                every_year_paper_num[\"NULL\"]['full_article'] +=1\n",
    "                every_year_gene[\"NULL\"]['full_article'][0:0] = all_gene \n",
    "                every_year_phenotype[\"NULL\"]['full_article'][0:0] = all_phenotype\n",
    "for year in every_year_gene:\n",
    "    for item in every_year_gene[year]:\n",
    "        temp_set = set(every_year_gene[year][item])\n",
    "        temp_dict={}\n",
    "        for i in temp_set:\n",
    "            temp_dict.update({i:every_year_gene[year][item].count(i)})\n",
    "        every_year_gene[year][item] = temp_dict\n",
    "for year in every_year_phenotype:\n",
    "    for item in every_year_phenotype[year]:\n",
    "        temp_set = set(every_year_phenotype[year][item])\n",
    "        temp_dict={}\n",
    "        for i in temp_set:\n",
    "            temp_dict.update({i:every_year_phenotype[year][item].count(i)})\n",
    "        every_year_phenotype[year][item] = temp_dict"
   ]
  },
  {
   "cell_type": "code",
   "execution_count": 8,
   "metadata": {},
   "outputs": [],
   "source": [
    "# the function which can merge and add contents of dicts\n",
    "from functools import reduce\n",
    "def sum_dict(a,b):\n",
    "    temp = dict()\n",
    "    for key in a.keys()| b.keys(): \n",
    "        temp[key] = sum([d.get(key, 0) for d in (a, b)])\n",
    "    return temp"
   ]
  },
  {
   "cell_type": "code",
   "execution_count": 9,
   "metadata": {},
   "outputs": [],
   "source": [
    "# merge abstract and full_article\n",
    "every_year_gene_merge = {}\n",
    "for year in year_list:\n",
    "    every_year_gene_merge[year] = []\n",
    "every_year_phenotype_merge = {}\n",
    "for year in year_list:\n",
    "    every_year_phenotype_merge[year] = []   \n",
    "    \n",
    "for year in every_year_gene_merge:\n",
    "    every_year_gene_merge[year] = reduce(sum_dict,[every_year_gene[year]['abstract'],every_year_gene[year]['full_article']])\n",
    "for year in every_year_phenotype_merge:\n",
    "    every_year_phenotype_merge[year] = reduce(sum_dict,[every_year_phenotype[year]['abstract'],every_year_phenotype[year]['full_article']])\n"
   ]
  },
  {
   "cell_type": "code",
   "execution_count": 10,
   "metadata": {},
   "outputs": [],
   "source": [
    "# read c2upper, get the upperclass\n",
    "with open(phenotype_upperclass_file, 'r', encoding='utf-8-sig') as o:  \n",
    "    phenotype_upperclass =  ast.literal_eval(o.read())\n",
    "phenotype_label_dict = {}\n",
    "for phenotype in phenotype_upperclass:\n",
    "    for upperclass in phenotype_upperclass[phenotype]:\n",
    "        \n",
    "        if upperclass not in phenotype_label_dict.keys():# 先把所有upperclass找出来\n",
    "            phenotype_label_dict[upperclass] =[]"
   ]
  },
  {
   "cell_type": "code",
   "execution_count": 11,
   "metadata": {},
   "outputs": [],
   "source": [
    "# read sfari\n",
    "def read_sfari(sfari_gene_dic):\n",
    "    wb = xlrd.open_workbook(sfari_gene_dic)\n",
    "    sh = wb.sheet_by_name('Sheet2')\n",
    "    sfari_gene_name = sh.col_values(1)\n",
    "    sfari_gene_class = sh.col_values(2)\n",
    "    sfari_gene_dict = dict(zip(sfari_gene_name,sfari_gene_class))  \n",
    "    return sfari_gene_dict\n",
    "\n",
    "sfari_gene_dict = read_sfari(sfari_gene_dic)"
   ]
  },
  {
   "cell_type": "code",
   "execution_count": 12,
   "metadata": {},
   "outputs": [],
   "source": [
    "\n",
    "# draw gene figure\n",
    "def draw_topngene_from_dict(dicdata,RANGE,filename):\n",
    "    by_value = sorted(dicdata.items(),key = lambda item:item[1],reverse=True)\n",
    "    x = []\n",
    "    y = []\n",
    "    wordsize = 6\n",
    "    for d in by_value:\n",
    "        x.append(d[0])\n",
    "        y.append(d[1])\n",
    "\n",
    "    colorlist = []\n",
    "    for item in x[0:RANGE]:\n",
    "        if item[-1] == '1':\n",
    "            colorlist.append('#ED1F23')\n",
    "        elif item[-1] == '2':\n",
    "            colorlist.append('#3853A4')\n",
    "        elif item[-1] == '3':    \n",
    "            colorlist.append('#69BD45')\n",
    "        elif item[-1] == 'S':\n",
    "            colorlist.append('#F7EC11')\n",
    "        elif item[-1] == 'A':\n",
    "            colorlist.append('#6F6F6E')\n",
    "    plt.subplot(2,1,1)\n",
    "    plt.tight_layout() \n",
    "    params = {\n",
    "        'figure.figsize': '4.5, 7'\n",
    "    }\n",
    "    plt.rcParams.update(params)\n",
    "\n",
    "    plt.barh(x[0:RANGE], y[0:RANGE],color = colorlist,height = 0.4)\n",
    "    plt.rcParams['font.sans-serif'] = ['Arial']\n",
    "    \n",
    "    plt.xticks(fontsize=wordsize)\n",
    "    plt.yticks(fontsize=wordsize)\n",
    "\n",
    "\n",
    "    return \n",
    "\n",
    "\n",
    "\n",
    "# draw phenotype figure \n",
    "def draw_topnphenotype_from_dict(dicdata,RANGE,filename):\n",
    "\n",
    "    by_value = sorted(dicdata.items(),key = lambda item:item[1],reverse=True)\n",
    "    x = []\n",
    "    y = []\n",
    "    wordsize = 6\n",
    "    for d in by_value:\n",
    "        x.append(d[0])\n",
    "        y.append(d[1])\n",
    "    \n",
    "    colorlist = []\n",
    "    for item in x[0:RANGE]:\n",
    "        if 'Abnormality of the nervous system' in item:\n",
    "            colorlist.append('#ED1F23')\n",
    "        elif 'Neoplasm'  in item:\n",
    "            colorlist.append('#3853A4')\n",
    "        else:    \n",
    "            colorlist.append('#69BD45')\n",
    "    params = {\n",
    "        'figure.figsize': '4.5,7'\n",
    "    }\n",
    "    plt.rcParams.update(params)\n",
    "    plt.subplot(2,1,2) \n",
    "    plt.tight_layout() \n",
    "\n",
    "   \n",
    "    plt.barh(x[0:RANGE], y[0:RANGE],color = colorlist,height = 0.4)\n",
    "    plt.rcParams['font.sans-serif'] = ['Arial']\n",
    "    \n",
    "    plt.xticks(fontsize=wordsize)\n",
    "    plt.yticks(fontsize=wordsize)\n",
    "\n",
    "\n",
    "    return \n",
    "\n"
   ]
  },
  {
   "cell_type": "markdown",
   "metadata": {},
   "source": [
    "# draw top n gene and phenotype, use all paper together"
   ]
  },
  {
   "cell_type": "code",
   "execution_count": 13,
   "metadata": {},
   "outputs": [],
   "source": [
    "all_gene = {}# store citation of genes in all paper \n",
    "for year in year_list:\n",
    "    all_gene = reduce(sum_dict,[all_gene,every_year_gene_merge[year]])\n",
    "    \n",
    "all_phenotype = {}# store citation of phenotype in all paper \n",
    "for year in year_list:\n",
    "    all_phenotype = reduce(sum_dict,[all_phenotype,every_year_phenotype_merge[year]])\n",
    "\n",
    "n = 100\n",
    "all_gene_top_n = {}\n",
    "temp_list = sorted(all_gene.items(),key=lambda item:item[1],reverse=True)\n",
    "temp_list = temp_list[:n]\n",
    "for item in temp_list:\n",
    "    all_gene_top_n[item[0]] = item[1]\n",
    "\n",
    "all_phenotype_top_n = {}\n",
    "temp_list = sorted(all_phenotype.items(),key=lambda item:item[1],reverse=True)\n",
    "temp_list = temp_list[:n]\n",
    "for item in temp_list:\n",
    "    all_phenotype_top_n[item[0]] = item[1]"
   ]
  },
  {
   "cell_type": "code",
   "execution_count": 14,
   "metadata": {},
   "outputs": [],
   "source": [
    "# add sfari label to gene dict\n",
    "temp_gene_list = list(all_gene_top_n.keys())\n",
    "for gene in temp_gene_list:\n",
    "    if gene in sfari_gene_dict.keys():\n",
    "        if sfari_gene_dict[gene] == 'S':\n",
    "            label = sfari_gene_dict[gene]\n",
    "        else:\n",
    "            label = str(int(sfari_gene_dict[gene]))\n",
    "    else:\n",
    "        label = 'NA'    \n",
    "    all_gene_top_n[gene+' | '+label] = all_gene_top_n.pop(gene)"
   ]
  },
  {
   "cell_type": "code",
   "execution_count": 15,
   "metadata": {},
   "outputs": [],
   "source": [
    "# add upperclass to phenotype dict\n",
    "temp_phenotype_list = list(all_phenotype_top_n.keys())\n",
    "for phenotype in temp_phenotype_list:\n",
    "    if phenotype in phenotype_upperclass.keys():\n",
    "        label = \",\".join(phenotype_upperclass[phenotype]) \n",
    "    else:\n",
    "        label = 'NA'\n",
    "    \n",
    "    all_phenotype_top_n[phenotype+' | '+label] = all_phenotype_top_n.pop(phenotype)      "
   ]
  },
  {
   "cell_type": "code",
   "execution_count": 16,
   "metadata": {},
   "outputs": [
    {
     "data": {
      "image/png": "[encoded data removed]",
      "text/plain": [
       "<Figure size 432x288 with 2 Axes>"
      ]
     },
     "metadata": {
      "needs_background": "light"
     },
     "output_type": "display_data"
    }
   ],
   "source": [
    "# draw figure\n",
    "draw_topngene_from_dict(all_gene_top_n, n_print,statistic_dic+'all_gene')\n",
    "draw_topnphenotype_from_dict(all_phenotype_top_n,n_print, statistic_dic+'all_phenotype')\n",
    "plt.savefig(statistic_dic+'all_gene&phenotype'+'.pdf', dpi=300,bbox_inches='tight')\n",
    "plt.savefig(statistic_dic+'all_gene&phenotype'+'.svg', dpi=300,bbox_inches='tight')\n",
    "plt.savefig(statistic_dic+'all_gene&phenotype'+'.png', dpi=300,bbox_inches='tight')\n",
    "plt.show()       "
   ]
  },
  {
   "cell_type": "markdown",
   "metadata": {},
   "source": [
    "# draw top n intersection gene and phenotype, use all paper together"
   ]
  },
  {
   "cell_type": "code",
   "execution_count": 27,
   "metadata": {},
   "outputs": [],
   "source": [
    "# get top n of every year\n",
    "n = 100\n",
    "\n",
    "# define dict\n",
    "every_year_gene_top_n = {}\n",
    "for year in year_list:\n",
    "    every_year_gene_top_n[year] = {}\n",
    "    \n",
    "every_year_phenotype_top_n = {}\n",
    "for year in year_list:\n",
    "    every_year_phenotype_top_n[year] = {}\n",
    "    \n",
    "for year in every_year_gene_merge:\n",
    "    temp_list = sorted(every_year_gene_merge[year].items(),key=lambda item:item[1],reverse=True)\n",
    "    temp_list = temp_list[:n]\n",
    "    for item in temp_list:\n",
    "        every_year_gene_top_n[year][item[0]] = item[1]\n",
    "     \n",
    "for year in every_year_phenotype_merge:\n",
    "    temp_list = sorted(every_year_phenotype_merge[year].items(),key=lambda item:item[1],reverse=True)\n",
    "    temp_list = temp_list[:n]\n",
    "    for item in temp_list:\n",
    "        every_year_phenotype_top_n[year][item[0]] = item[1]\n"
   ]
  },
  {
   "cell_type": "code",
   "execution_count": 28,
   "metadata": {},
   "outputs": [],
   "source": [
    "# get intersection of every year\n",
    "gene_intersection = []\n",
    "for year in every_year_gene_top_n:\n",
    "    if year == year_list[0]:# when change yearto analysis, we also need to change this\n",
    "        gene_intersection = every_year_gene_top_n[year].keys()\n",
    "        continue\n",
    "    gene_intersection = list(set(gene_intersection).intersection(set(every_year_gene_top_n[year].keys())))\n",
    "    \n",
    "phenotype_intersection = []\n",
    "for year in every_year_phenotype_top_n:\n",
    "    if year == year_list[0]:\n",
    "        phenotype_intersection = every_year_phenotype_top_n[year].keys()\n",
    "        continue\n",
    "    phenotype_intersection = list(set(phenotype_intersection).intersection(set(every_year_phenotype_top_n[year].keys())))\n",
    "      "
   ]
  },
  {
   "cell_type": "code",
   "execution_count": 29,
   "metadata": {},
   "outputs": [],
   "source": [
    "# get the citation of intersection genes and phenotype \n",
    "top_n_gene_dict_all_year = {}\n",
    "for year in year_list:\n",
    "    top_n_gene_dict_all_year[year] = {}\n",
    "    \n",
    "for year in top_n_gene_dict_all_year:\n",
    "    for gene in gene_intersection:  \n",
    "        top_n_gene_dict_all_year[year][gene] = every_year_gene_merge[year][gene]\n",
    "        \n",
    "\n",
    "top_n_phenotype_dict_all_year = {}\n",
    "for year in year_list:\n",
    "    top_n_phenotype_dict_all_year[year] = {}\n",
    "for year in top_n_phenotype_dict_all_year:\n",
    "    for phenotype in phenotype_intersection:  \n",
    "        top_n_phenotype_dict_all_year[year][phenotype] = every_year_phenotype_merge[year][phenotype]\n",
    "        "
   ]
  },
  {
   "cell_type": "code",
   "execution_count": 30,
   "metadata": {},
   "outputs": [],
   "source": [
    "# get gene label\n",
    "gene_label_dict = {'1':[],'2':[],'3':[],'S':[]}\n",
    "for gene in gene_intersection:\n",
    "    if gene in sfari_gene_dict.keys():\n",
    "        if sfari_gene_dict[gene] == 'S':\n",
    "            gene_label_dict[sfari_gene_dict[gene]].append(gene)\n",
    "        else:\n",
    "            gene_label_dict[str(int(sfari_gene_dict[gene]))].append(gene)"
   ]
  },
  {
   "cell_type": "code",
   "execution_count": 31,
   "metadata": {},
   "outputs": [],
   "source": [
    "# add sfari label\n",
    "for year in top_n_gene_dict_all_year:\n",
    "    for gene in gene_intersection:\n",
    "        if gene in sfari_gene_dict.keys():\n",
    "            if sfari_gene_dict[gene] == 'S':\n",
    "                label = sfari_gene_dict[gene]\n",
    "            else:\n",
    "                label = str(int(sfari_gene_dict[gene]))\n",
    "        else:\n",
    "            label = 'NA'\n",
    "        \n",
    "        top_n_gene_dict_all_year[year][gene+' | '+label] = top_n_gene_dict_all_year[year].pop(gene)\n"
   ]
  },
  {
   "cell_type": "code",
   "execution_count": 32,
   "metadata": {},
   "outputs": [],
   "source": [
    "# add upperclass label\n",
    "success_list = []\n",
    "error_list = []\n",
    "for phenotype in phenotype_intersection:   \n",
    "    if phenotype in phenotype_upperclass.keys():\n",
    "        success_list.append(phenotype)\n",
    "        for upperclass in phenotype_upperclass[phenotype]:\n",
    "            phenotype_label_dict[upperclass].append(phenotype)\n",
    "    else:\n",
    "        error_list.append(phenotype)\n",
    "        \n",
    "for year in top_n_phenotype_dict_all_year:\n",
    "    for phenotype in phenotype_intersection:\n",
    "        if phenotype in phenotype_upperclass.keys():\n",
    "            label = \",\".join(phenotype_upperclass[phenotype]) \n",
    "        else:\n",
    "            label = 'NA'\n",
    "        \n",
    "        top_n_phenotype_dict_all_year[year][phenotype+' | '+label] = top_n_phenotype_dict_all_year[year].pop(phenotype)      \n",
    "        "
   ]
  },
  {
   "cell_type": "code",
   "execution_count": 33,
   "metadata": {},
   "outputs": [
    {
     "data": {
      "image/png": "[encoded data removed]",
      "text/plain": [
       "<Figure size 324x504 with 2 Axes>"
      ]
     },
     "metadata": {
      "needs_background": "light"
     },
     "output_type": "display_data"
    }
   ],
   "source": [
    "# draw figure\n",
    "top_n_gene_dict = {}\n",
    "top_n_phenotype_dict = {}\n",
    "\n",
    "for year in top_n_gene_dict_all_year:\n",
    "    top_n_gene_dict = reduce(sum_dict,[top_n_gene_dict,top_n_gene_dict_all_year[year]])\n",
    "\n",
    "\n",
    "for year in top_n_phenotype_dict_all_year:\n",
    "    top_n_phenotype_dict = reduce(sum_dict,[top_n_phenotype_dict,top_n_phenotype_dict_all_year[year]])\n",
    "\n",
    "\n",
    "\n",
    "draw_topngene_from_dict(top_n_gene_dict, n_print,statistic_dic+'every_year_gene')\n",
    "draw_topnphenotype_from_dict(top_n_phenotype_dict,n_print, statistic_dic+'every_year_phenotype')\n",
    "\n",
    "plt.savefig(statistic_dic+'every_year_gene&phenotype_intersection'+'.pdf', dpi=300,bbox_inches='tight')\n",
    "plt.savefig(statistic_dic+'every_year_gene&phenotype_intersection'+'.svg', dpi=300,bbox_inches='tight')\n",
    "plt.savefig(statistic_dic+'every_year_gene&phenotype_intersection'+'.png', dpi=300,bbox_inches='tight')\n",
    "plt.show()       "
   ]
  },
  {
   "cell_type": "markdown",
   "metadata": {},
   "source": [
    "# get the percentage of 123s which NPMI>0"
   ]
  },
  {
   "cell_type": "code",
   "execution_count": 34,
   "metadata": {},
   "outputs": [],
   "source": [
    "data = xlrd.open_workbook(NPMI_sort_ngp_and_NPMI_xlsx_dic) # read NPMI file, which actually can get from NPMI_above_zero.csv\n",
    "# table = data.sheet_by_name('all pairs NPMI>0 ngp > 5')\n",
    "table = data.sheet_by_name('all pairs NPMI >0')\n",
    "data_dict = {}\n",
    "for rowNum in range(table.nrows):\n",
    "# get rid of first line\n",
    "    if rowNum > 0:\n",
    "        if table.row_values(rowNum)[0] != '':\n",
    "            if table.row_values(rowNum)[0] not in data_dict.keys():\n",
    "                data_dict[table.row_values(rowNum)[0]] = []\n",
    "            data_dict[table.row_values(rowNum)[0]].append( [table.row_values(rowNum)[1],#phenotype\n",
    "                                                            table.row_values(rowNum)[2],#gene_sfari_class\n",
    "                                                            table.row_values(rowNum)[3],#NPMI\n",
    "                                                            table.row_values(rowNum)[4],#n_g\n",
    "                                                            table.row_values(rowNum)[5],#n_p\n",
    "                                                            table.row_values(rowNum)[6]]#n_gp\n",
    "                                                          )"
   ]
  },
  {
   "cell_type": "code",
   "execution_count": 35,
   "metadata": {},
   "outputs": [],
   "source": [
    "def draw_from_dict(dicdata,RANGE,filename):\n",
    "\n",
    "    colorlist = ['#DD2724','#35509A','#68B347','#ECE32B','#706F6E']\n",
    "    wordsize = 6\n",
    "\n",
    "    for index, label in enumerate(dicdata):\n",
    "        \n",
    "        plt.bar(label,dicdata[label] ,color = colorlist[index])\n",
    "        # axes[subplot_number].barh(x[0:RANGE], y[0:RANGE])    # use this if subplot have only 1 row\n",
    "        plt.ylim([0,1])\n",
    "        plt.rcParams['font.sans-serif'] = ['Arial']\n",
    "        plt.gca().yaxis.set_major_formatter(PercentFormatter(1))\n",
    "        \n",
    "        plt.xticks(fontsize=wordsize)\n",
    "        plt.yticks(fontsize=wordsize)\n",
    "\n",
    "    plt.savefig(filename+'.pdf', dpi=300,bbox_inches='tight')\n",
    "    plt.savefig(filename+'.svg', dpi=300,bbox_inches='tight')\n",
    "    plt.savefig(filename+'.png', dpi=300,bbox_inches='tight')\n",
    "    plt.show()\n",
    "    return "
   ]
  },
  {
   "cell_type": "code",
   "execution_count": 36,
   "metadata": {},
   "outputs": [
    {
     "data": {
      "image/png": "[encoded data removed]",
      "text/plain": [
       "<Figure size 324x504 with 1 Axes>"
      ]
     },
     "metadata": {
      "needs_background": "light"
     },
     "output_type": "display_data"
    }
   ],
   "source": [
    "# draw statistic result of every gene\n",
    "statistic_uniquegene_label_dict = {'1':0,'2':0,'3':0,'S':0,'NA':0}\n",
    "for gene in data_dict:\n",
    "    if type(data_dict[gene][0][1]) == float:\n",
    "        data_dict[gene][0][1] = int(data_dict[gene][0][1])\n",
    "    statistic_uniquegene_label_dict[str(data_dict[gene][0][1])] += 1\n",
    "    \n",
    "\n",
    "sum_num = 0\n",
    "for label in statistic_uniquegene_label_dict:\n",
    "    sum_num += statistic_uniquegene_label_dict[label]\n",
    "for label in statistic_uniquegene_label_dict:\n",
    "    statistic_uniquegene_label_dict[label] = statistic_uniquegene_label_dict[label]/sum_num\n",
    "    \n",
    "draw_from_dict(statistic_uniquegene_label_dict,100,\n",
    "                '.\\\\statistic_result\\\\statistic_uniquegene_NPMI_by_threshold')"
   ]
  },
  {
   "cell_type": "code",
   "execution_count": 37,
   "metadata": {},
   "outputs": [
    {
     "data": {
      "image/png": "[encoded data removed]",
      "text/plain": [
       "<Figure size 324x504 with 1 Axes>"
      ]
     },
     "metadata": {
      "needs_background": "light"
     },
     "output_type": "display_data"
    }
   ],
   "source": [
    "# draw statistic result of every pairs\n",
    "statistic_pairs_label_dict = {'1':0,'2':0,'3':0,'S':0,'NA':0}\n",
    "for gene in data_dict:\n",
    "    for pair in data_dict[gene]:\n",
    "        if type(pair[1]) == float:\n",
    "            pair[1] = int(pair[1])\n",
    "        statistic_pairs_label_dict[str(pair[1])] += 1\n",
    "    \n",
    "sum_num = 0\n",
    "for label in statistic_pairs_label_dict:\n",
    "    sum_num += statistic_pairs_label_dict[label]\n",
    "for label in statistic_pairs_label_dict:\n",
    "    statistic_pairs_label_dict[label] = statistic_pairs_label_dict[label]/sum_num\n",
    "    \n",
    "\n",
    "draw_from_dict(statistic_pairs_label_dict,100,\n",
    "                '.\\\\statistic_result\\\\statistic_pairs_NPMI_by_threshold')"
   ]
  }
 ],
 "metadata": {
  "kernelspec": {
   "display_name": "Python 3",
   "language": "python",
   "name": "python3"
  },
  "language_info": {
   "codemirror_mode": {
    "name": "ipython",
    "version": 3
   },
   "file_extension": ".py",
   "mimetype": "text/x-python",
   "name": "python",
   "nbconvert_exporter": "python",
   "pygments_lexer": "ipython3",
   "version": "3.8.3"
  }
 },
 "nbformat": 4,
 "nbformat_minor": 4
}
